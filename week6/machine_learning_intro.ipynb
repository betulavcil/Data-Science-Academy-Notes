{
 "cells": [
  {
   "cell_type": "code",
   "execution_count": null,
   "metadata": {},
   "outputs": [],
   "source": []
  },
  {
   "cell_type": "markdown",
   "metadata": {},
   "source": [
    "## Python for Machine Learning\n",
    "\n",
    "1- numpy 2- SciPy 3- Matplotlib 4- Pandas 5- scikit-learn\n",
    "\n",
    "scikit-learn\n",
    "* allows to work wiht numpy and scipy\n",
    "* good docs\n",
    "* easy to use\n",
    "\n",
    "pre-processing of data, feature selection, feature extraction, train/test splitting, defining the algorithms, fitting models, tuning parameters, prediction, evaluation, and exporting the model."
   ]
  },
  {
   "cell_type": "code",
   "execution_count": null,
   "metadata": {},
   "outputs": [],
   "source": [
    "# pip install scikit-learn\n",
    "from sklearn import preprocessing\n",
    "X = preprocessing.StandardScaler().fit(X).transform(X)"
   ]
  },
  {
   "cell_type": "code",
   "execution_count": null,
   "metadata": {},
   "outputs": [],
   "source": [
    "from sklearn.model_selection import train_test_split\n",
    "X_train, X_test, y_train, y_test = train_test_split(X, y, test_size=0.3)"
   ]
  },
  {
   "cell_type": "code",
   "execution_count": null,
   "metadata": {},
   "outputs": [],
   "source": [
    "from sklearn import svm\n",
    "clf = svm.SVC(gamma=0.01, C=90.0) #estimator instance\n",
    "\n",
    "clf.fit(X_train, y_train)\n",
    "\n",
    "clf.predict(X_test)"
   ]
  },
  {
   "cell_type": "code",
   "execution_count": null,
   "metadata": {},
   "outputs": [],
   "source": [
    "from sklearn.metrics import confusion_matrix # use metrics to avaluate model accuracy\n",
    "print(confusion_matrix(y_test, labels=[1,0]))"
   ]
  },
  {
   "cell_type": "code",
   "execution_count": null,
   "metadata": {},
   "outputs": [],
   "source": [
    "# Save your model\n",
    "import pickle\n",
    "s = pickle.dumps(clf)"
   ]
  },
  {
   "cell_type": "markdown",
   "metadata": {},
   "source": [
    "## Supervised vs Unsupervised"
   ]
  },
  {
   "cell_type": "code",
   "execution_count": 3,
   "metadata": {},
   "outputs": [],
   "source": [
    "import pandas as pd\n",
    "import numpy as np\n",
    "\n",
    "cancer_data = pd.read_csv(\"cancer_data.csv\")"
   ]
  },
  {
   "cell_type": "code",
   "execution_count": 4,
   "metadata": {},
   "outputs": [
    {
     "data": {
      "text/html": [
       "<div>\n",
       "<style scoped>\n",
       "    .dataframe tbody tr th:only-of-type {\n",
       "        vertical-align: middle;\n",
       "    }\n",
       "\n",
       "    .dataframe tbody tr th {\n",
       "        vertical-align: top;\n",
       "    }\n",
       "\n",
       "    .dataframe thead th {\n",
       "        text-align: right;\n",
       "    }\n",
       "</style>\n",
       "<table border=\"1\" class=\"dataframe\">\n",
       "  <thead>\n",
       "    <tr style=\"text-align: right;\">\n",
       "      <th></th>\n",
       "      <th>id</th>\n",
       "      <th>diagnosis</th>\n",
       "      <th>radius_mean</th>\n",
       "      <th>texture_mean</th>\n",
       "      <th>perimeter_mean</th>\n",
       "      <th>area_mean</th>\n",
       "      <th>smoothness_mean</th>\n",
       "      <th>compactness_mean</th>\n",
       "      <th>concavity_mean</th>\n",
       "      <th>concave points_mean</th>\n",
       "      <th>...</th>\n",
       "      <th>texture_worst</th>\n",
       "      <th>perimeter_worst</th>\n",
       "      <th>area_worst</th>\n",
       "      <th>smoothness_worst</th>\n",
       "      <th>compactness_worst</th>\n",
       "      <th>concavity_worst</th>\n",
       "      <th>concave points_worst</th>\n",
       "      <th>symmetry_worst</th>\n",
       "      <th>fractal_dimension_worst</th>\n",
       "      <th>Unnamed: 32</th>\n",
       "    </tr>\n",
       "  </thead>\n",
       "  <tbody>\n",
       "    <tr>\n",
       "      <th>276</th>\n",
       "      <td>8911230</td>\n",
       "      <td>B</td>\n",
       "      <td>11.33</td>\n",
       "      <td>14.16</td>\n",
       "      <td>71.79</td>\n",
       "      <td>396.6</td>\n",
       "      <td>0.09379</td>\n",
       "      <td>0.03872</td>\n",
       "      <td>0.001487</td>\n",
       "      <td>0.003333</td>\n",
       "      <td>...</td>\n",
       "      <td>18.99</td>\n",
       "      <td>77.37</td>\n",
       "      <td>458.0</td>\n",
       "      <td>0.1259</td>\n",
       "      <td>0.07348</td>\n",
       "      <td>0.004955</td>\n",
       "      <td>0.01111</td>\n",
       "      <td>0.2758</td>\n",
       "      <td>0.06386</td>\n",
       "      <td>NaN</td>\n",
       "    </tr>\n",
       "    <tr>\n",
       "      <th>87</th>\n",
       "      <td>86135502</td>\n",
       "      <td>M</td>\n",
       "      <td>19.02</td>\n",
       "      <td>24.59</td>\n",
       "      <td>122.00</td>\n",
       "      <td>1076.0</td>\n",
       "      <td>0.09029</td>\n",
       "      <td>0.12060</td>\n",
       "      <td>0.146800</td>\n",
       "      <td>0.082710</td>\n",
       "      <td>...</td>\n",
       "      <td>30.41</td>\n",
       "      <td>152.90</td>\n",
       "      <td>1623.0</td>\n",
       "      <td>0.1249</td>\n",
       "      <td>0.32060</td>\n",
       "      <td>0.575500</td>\n",
       "      <td>0.19560</td>\n",
       "      <td>0.3956</td>\n",
       "      <td>0.09288</td>\n",
       "      <td>NaN</td>\n",
       "    </tr>\n",
       "    <tr>\n",
       "      <th>420</th>\n",
       "      <td>906539</td>\n",
       "      <td>B</td>\n",
       "      <td>11.57</td>\n",
       "      <td>19.04</td>\n",
       "      <td>74.20</td>\n",
       "      <td>409.7</td>\n",
       "      <td>0.08546</td>\n",
       "      <td>0.07722</td>\n",
       "      <td>0.054850</td>\n",
       "      <td>0.014280</td>\n",
       "      <td>...</td>\n",
       "      <td>26.98</td>\n",
       "      <td>86.43</td>\n",
       "      <td>520.5</td>\n",
       "      <td>0.1249</td>\n",
       "      <td>0.19370</td>\n",
       "      <td>0.256000</td>\n",
       "      <td>0.06664</td>\n",
       "      <td>0.3035</td>\n",
       "      <td>0.08284</td>\n",
       "      <td>NaN</td>\n",
       "    </tr>\n",
       "    <tr>\n",
       "      <th>517</th>\n",
       "      <td>916838</td>\n",
       "      <td>M</td>\n",
       "      <td>19.89</td>\n",
       "      <td>20.26</td>\n",
       "      <td>130.50</td>\n",
       "      <td>1214.0</td>\n",
       "      <td>0.10370</td>\n",
       "      <td>0.13100</td>\n",
       "      <td>0.141100</td>\n",
       "      <td>0.094310</td>\n",
       "      <td>...</td>\n",
       "      <td>25.23</td>\n",
       "      <td>160.50</td>\n",
       "      <td>1646.0</td>\n",
       "      <td>0.1417</td>\n",
       "      <td>0.33090</td>\n",
       "      <td>0.418500</td>\n",
       "      <td>0.16130</td>\n",
       "      <td>0.2549</td>\n",
       "      <td>0.09136</td>\n",
       "      <td>NaN</td>\n",
       "    </tr>\n",
       "    <tr>\n",
       "      <th>506</th>\n",
       "      <td>91544001</td>\n",
       "      <td>B</td>\n",
       "      <td>12.22</td>\n",
       "      <td>20.04</td>\n",
       "      <td>79.47</td>\n",
       "      <td>453.1</td>\n",
       "      <td>0.10960</td>\n",
       "      <td>0.11520</td>\n",
       "      <td>0.081750</td>\n",
       "      <td>0.021660</td>\n",
       "      <td>...</td>\n",
       "      <td>24.17</td>\n",
       "      <td>85.13</td>\n",
       "      <td>515.3</td>\n",
       "      <td>0.1402</td>\n",
       "      <td>0.23150</td>\n",
       "      <td>0.353500</td>\n",
       "      <td>0.08088</td>\n",
       "      <td>0.2709</td>\n",
       "      <td>0.08839</td>\n",
       "      <td>NaN</td>\n",
       "    </tr>\n",
       "  </tbody>\n",
       "</table>\n",
       "<p>5 rows × 33 columns</p>\n",
       "</div>"
      ],
      "text/plain": [
       "           id diagnosis  radius_mean  texture_mean  perimeter_mean  area_mean  \\\n",
       "276   8911230         B        11.33         14.16           71.79      396.6   \n",
       "87   86135502         M        19.02         24.59          122.00     1076.0   \n",
       "420    906539         B        11.57         19.04           74.20      409.7   \n",
       "517    916838         M        19.89         20.26          130.50     1214.0   \n",
       "506  91544001         B        12.22         20.04           79.47      453.1   \n",
       "\n",
       "     smoothness_mean  compactness_mean  concavity_mean  concave points_mean  \\\n",
       "276          0.09379           0.03872        0.001487             0.003333   \n",
       "87           0.09029           0.12060        0.146800             0.082710   \n",
       "420          0.08546           0.07722        0.054850             0.014280   \n",
       "517          0.10370           0.13100        0.141100             0.094310   \n",
       "506          0.10960           0.11520        0.081750             0.021660   \n",
       "\n",
       "     ...  texture_worst  perimeter_worst  area_worst  smoothness_worst  \\\n",
       "276  ...          18.99            77.37       458.0            0.1259   \n",
       "87   ...          30.41           152.90      1623.0            0.1249   \n",
       "420  ...          26.98            86.43       520.5            0.1249   \n",
       "517  ...          25.23           160.50      1646.0            0.1417   \n",
       "506  ...          24.17            85.13       515.3            0.1402   \n",
       "\n",
       "     compactness_worst  concavity_worst  concave points_worst  symmetry_worst  \\\n",
       "276            0.07348         0.004955               0.01111          0.2758   \n",
       "87             0.32060         0.575500               0.19560          0.3956   \n",
       "420            0.19370         0.256000               0.06664          0.3035   \n",
       "517            0.33090         0.418500               0.16130          0.2549   \n",
       "506            0.23150         0.353500               0.08088          0.2709   \n",
       "\n",
       "     fractal_dimension_worst  Unnamed: 32  \n",
       "276                  0.06386          NaN  \n",
       "87                   0.09288          NaN  \n",
       "420                  0.08284          NaN  \n",
       "517                  0.09136          NaN  \n",
       "506                  0.08839          NaN  \n",
       "\n",
       "[5 rows x 33 columns]"
      ]
     },
     "execution_count": 4,
     "metadata": {},
     "output_type": "execute_result"
    }
   ],
   "source": [
    "cancer_data.sample(5)"
   ]
  },
  {
   "cell_type": "code",
   "execution_count": 5,
   "metadata": {},
   "outputs": [],
   "source": [
    "\n",
    "cancer_data[\"diagnosis\"] = cancer_data[\"diagnosis\"].astype(\"category\")"
   ]
  },
  {
   "cell_type": "code",
   "execution_count": 6,
   "metadata": {},
   "outputs": [
    {
     "data": {
      "text/plain": [
       "id                            int64\n",
       "diagnosis                  category\n",
       "radius_mean                 float64\n",
       "texture_mean                float64\n",
       "perimeter_mean              float64\n",
       "area_mean                   float64\n",
       "smoothness_mean             float64\n",
       "compactness_mean            float64\n",
       "concavity_mean              float64\n",
       "concave points_mean         float64\n",
       "symmetry_mean               float64\n",
       "fractal_dimension_mean      float64\n",
       "radius_se                   float64\n",
       "texture_se                  float64\n",
       "perimeter_se                float64\n",
       "area_se                     float64\n",
       "smoothness_se               float64\n",
       "compactness_se              float64\n",
       "concavity_se                float64\n",
       "concave points_se           float64\n",
       "symmetry_se                 float64\n",
       "fractal_dimension_se        float64\n",
       "radius_worst                float64\n",
       "texture_worst               float64\n",
       "perimeter_worst             float64\n",
       "area_worst                  float64\n",
       "smoothness_worst            float64\n",
       "compactness_worst           float64\n",
       "concavity_worst             float64\n",
       "concave points_worst        float64\n",
       "symmetry_worst              float64\n",
       "fractal_dimension_worst     float64\n",
       "Unnamed: 32                 float64\n",
       "dtype: object"
      ]
     },
     "execution_count": 6,
     "metadata": {},
     "output_type": "execute_result"
    }
   ],
   "source": [
    "cancer_data.dtypes"
   ]
  },
  {
   "cell_type": "code",
   "execution_count": 7,
   "metadata": {},
   "outputs": [
    {
     "name": "stdout",
     "output_type": "stream",
     "text": [
      "<class 'pandas.core.frame.DataFrame'>\n",
      "RangeIndex: 569 entries, 0 to 568\n",
      "Data columns (total 33 columns):\n",
      " #   Column                   Non-Null Count  Dtype   \n",
      "---  ------                   --------------  -----   \n",
      " 0   id                       569 non-null    int64   \n",
      " 1   diagnosis                569 non-null    category\n",
      " 2   radius_mean              569 non-null    float64 \n",
      " 3   texture_mean             569 non-null    float64 \n",
      " 4   perimeter_mean           569 non-null    float64 \n",
      " 5   area_mean                569 non-null    float64 \n",
      " 6   smoothness_mean          569 non-null    float64 \n",
      " 7   compactness_mean         569 non-null    float64 \n",
      " 8   concavity_mean           569 non-null    float64 \n",
      " 9   concave points_mean      569 non-null    float64 \n",
      " 10  symmetry_mean            569 non-null    float64 \n",
      " 11  fractal_dimension_mean   569 non-null    float64 \n",
      " 12  radius_se                569 non-null    float64 \n",
      " 13  texture_se               569 non-null    float64 \n",
      " 14  perimeter_se             569 non-null    float64 \n",
      " 15  area_se                  569 non-null    float64 \n",
      " 16  smoothness_se            569 non-null    float64 \n",
      " 17  compactness_se           569 non-null    float64 \n",
      " 18  concavity_se             569 non-null    float64 \n",
      " 19  concave points_se        569 non-null    float64 \n",
      " 20  symmetry_se              569 non-null    float64 \n",
      " 21  fractal_dimension_se     569 non-null    float64 \n",
      " 22  radius_worst             569 non-null    float64 \n",
      " 23  texture_worst            569 non-null    float64 \n",
      " 24  perimeter_worst          569 non-null    float64 \n",
      " 25  area_worst               569 non-null    float64 \n",
      " 26  smoothness_worst         569 non-null    float64 \n",
      " 27  compactness_worst        569 non-null    float64 \n",
      " 28  concavity_worst          569 non-null    float64 \n",
      " 29  concave points_worst     569 non-null    float64 \n",
      " 30  symmetry_worst           569 non-null    float64 \n",
      " 31  fractal_dimension_worst  569 non-null    float64 \n",
      " 32  Unnamed: 32              0 non-null      float64 \n",
      "dtypes: category(1), float64(31), int64(1)\n",
      "memory usage: 143.1 KB\n"
     ]
    }
   ],
   "source": [
    "cancer_data.info()"
   ]
  },
  {
   "cell_type": "code",
   "execution_count": 8,
   "metadata": {},
   "outputs": [
    {
     "data": {
      "text/plain": [
       "Index(['radius_mean', 'texture_mean', 'perimeter_mean', 'area_mean',\n",
       "       'smoothness_mean', 'compactness_mean', 'concavity_mean',\n",
       "       'concave points_mean', 'symmetry_mean', 'fractal_dimension_mean',\n",
       "       'radius_se', 'texture_se', 'perimeter_se', 'area_se', 'smoothness_se',\n",
       "       'compactness_se', 'concavity_se', 'concave points_se', 'symmetry_se',\n",
       "       'fractal_dimension_se', 'radius_worst', 'texture_worst',\n",
       "       'perimeter_worst', 'area_worst', 'smoothness_worst',\n",
       "       'compactness_worst', 'concavity_worst', 'concave points_worst',\n",
       "       'symmetry_worst', 'fractal_dimension_worst', 'Unnamed: 32'],\n",
       "      dtype='object')"
      ]
     },
     "execution_count": 8,
     "metadata": {},
     "output_type": "execute_result"
    }
   ],
   "source": [
    "\n",
    "cancer_data.columns[2:]"
   ]
  },
  {
   "cell_type": "markdown",
   "metadata": {},
   "source": [
    "* Attributes\n",
    "* Features\n",
    "* Observation\n",
    "\n",
    "## Supervised Learning Techniques:\n",
    "\n",
    "* Classification\n",
    "* Regression\n",
    "\n",
    "Supervised vs unsupervised\n",
    "\n",
    "* Labeled and unlabelled\n",
    "\n",
    "\n",
    "Dimension reduction, Density estimation,Market basket analysis and Clustering are the most widely used unsupervised machine learning techniques."
   ]
  }
 ],
 "metadata": {
  "kernelspec": {
   "display_name": "base",
   "language": "python",
   "name": "python3"
  },
  "language_info": {
   "codemirror_mode": {
    "name": "ipython",
    "version": 3
   },
   "file_extension": ".py",
   "mimetype": "text/x-python",
   "name": "python",
   "nbconvert_exporter": "python",
   "pygments_lexer": "ipython3",
   "version": "3.9.12"
  }
 },
 "nbformat": 4,
 "nbformat_minor": 2
}
