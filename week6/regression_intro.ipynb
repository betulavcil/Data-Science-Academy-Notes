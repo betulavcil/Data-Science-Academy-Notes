{
 "cells": [
  {
   "cell_type": "code",
   "execution_count": null,
   "metadata": {},
   "outputs": [],
   "source": [
    "import pandas as pd\n",
    "import numpy as np\n",
    "\n",
    "data = pd.read_csv(\"../data/CO2_Emissions_Canada.csv\")"
   ]
  },
  {
   "cell_type": "code",
   "execution_count": null,
   "metadata": {},
   "outputs": [],
   "source": [
    "data.head()"
   ]
  },
  {
   "cell_type": "markdown",
   "metadata": {},
   "source": [
    "* dependent variable (Y): \"target\" or \"final state\" we try to predict\n",
    "* independent variable (X): \"causes\" or \"states\" explanatory variables\n",
    "\n",
    "A regression model relates y, or the dependent variable, to a function of x, i.e., the independent variables.\n",
    "\n",
    "Tip:\n",
    "\n",
    "* You count discreate data.\n",
    "\n",
    "* You measure continuous data.\n",
    "\n",
    "* Bar charts to graph discreate data.\n",
    "\n",
    "* Histograms and scatterplots to graph continuous data.\n",
    "\n",
    "# Simple regression and multiple regression\n",
    "\n",
    "* Simple regression is one independent variable to astimate a dependent variable. Linearity of regression is based on nature of relationship between independent and dependent variables.\n",
    "* When one than one independent variable is present, it is called multiple linear regression.\n",
    "* Example applications of regression:\n",
    "\n",
    "Many fields or domains such as finance, healthcare, retail, weather.\n",
    "\n",
    "# regression algorithms in machine learning\n",
    "\n",
    "* Simple and multiple regression\n",
    "* K-Nearest Neighbors\n",
    "* Decision Trees\n",
    "* Logistic Regression\n",
    "* Non-linear regression\n",
    "* Random forest\n",
    "* Boosting algorithms"
   ]
  }
 ],
 "metadata": {
  "language_info": {
   "name": "python"
  }
 },
 "nbformat": 4,
 "nbformat_minor": 2
}
