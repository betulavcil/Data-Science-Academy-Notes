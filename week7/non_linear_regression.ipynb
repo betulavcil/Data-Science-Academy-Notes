{
 "cells": [
  {
   "cell_type": "markdown",
   "metadata": {},
   "source": [
    "# Non-linear Regression"
   ]
  },
  {
   "cell_type": "code",
   "execution_count": null,
   "metadata": {},
   "outputs": [],
   "source": [
    "import numpy as np\n",
    "import matplotlib.pyplot as plt"
   ]
  },
  {
   "cell_type": "code",
   "execution_count": null,
   "metadata": {},
   "outputs": [],
   "source": [
    "x = np.linspace(0, 10, 100)\n",
    "y = np.exp(x)\n",
    "\n",
    "plt.rcParams['figure.figsize'] = (12,8)\n",
    "plt.scatter(x, y)"
   ]
  },
  {
   "cell_type": "markdown",
   "metadata": {},
   "source": [
    "## Polynomial Regression\n",
    "y^ = θ0 + θ1 * x + θ2 * x^2 + θ3 * x^3\n",
    "\n",
    "x1 = x x2 = x^2 x3 = x^3\n",
    "\n",
    "y^ = θ0 + θ1 * x1 + θ2 * x2 + θ3 * x3\n",
    "\n",
    "Polynomial regression is considered to be a special case of traditional multiple linear regression. - Polynomial regression models can fit using the model of \"least squares\" - Minimize the sum of the squares of the differences between y and y^ (y_hat)"
   ]
  },
  {
   "cell_type": "markdown",
   "metadata": {},
   "source": [
    "## Non-linear regression\n",
    "* non-linear relationship between the dependet variable and a set of independent variables\n",
    "* For a model to be considered non-linear y^ must be a non-linear function of the paramaters θ, not necessarily the features of x.\n",
    "* in Non-linear regression, a model is non-linear by parameters.\n",
    "\n",
    "\n",
    "How can I know if a problem is linear or non-linear?\n",
    "\n",
    "* Visually figure out relation, use plots of output variables with each input variable.\n",
    "* Calculate the correlation coefficient between independet and dependent variables.\n",
    "     * if for all variables it is 0.7 or higher there is a linearity, and it's not appropriate to fit a non-linear regression.\n",
    "\n",
    "\n",
    "How should I model my data, if it displays non-linear on a scatterplot?\n",
    "\n",
    "* Polynomial regression\n",
    "* Non-linear regression model\n",
    "* Transform your data"
   ]
  },
  {
   "cell_type": "markdown",
   "metadata": {},
   "source": []
  }
 ],
 "metadata": {
  "kernelspec": {
   "display_name": "base",
   "language": "python",
   "name": "python3"
  },
  "language_info": {
   "name": "python",
   "version": "3.9.12"
  }
 },
 "nbformat": 4,
 "nbformat_minor": 2
}
