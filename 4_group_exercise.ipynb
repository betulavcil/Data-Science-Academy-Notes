{
  "nbformat": 4,
  "nbformat_minor": 0,
  "metadata": {
    "colab": {
      "provenance": [],
      "authorship_tag": "ABX9TyNV3fIBIo0yrU1j5kFPY+fr"
    },
    "kernelspec": {
      "name": "python3",
      "display_name": "Python 3"
    },
    "language_info": {
      "name": "python"
    }
  },
  "cells": [
    {
      "cell_type": "markdown",
      "source": [
        "#Exercise\n",
        "\n",
        "Get information from webpage with beautiful soup\n",
        "\n",
        "https://www.geeksforgeeks.org/python-web-scraping-tutorial/?ref=lbp\n",
        "\n",
        "https://www.crummy.com/software/BeautifulSoup/bs4/doc/\n",
        "\n",
        "\n"
      ],
      "metadata": {
        "id": "F-CZqxN1ftIk"
      }
    },
    {
      "cell_type": "markdown",
      "source": [
        "* get the links from job  posts with python from this page\n",
        "\n",
        "https://realpython.github.io/fake-jobs/\n",
        "\n",
        "* Visualize job types\n",
        "\n",
        "* Get another info from website youve chosen' if you have more time for this study (optional)"
      ],
      "metadata": {
        "id": "Zt90Xh3BgbO_"
      }
    },
    {
      "cell_type": "code",
      "execution_count": null,
      "metadata": {
        "id": "p1_zTI-pfWgz"
      },
      "outputs": [],
      "source": [
        "import requests\n",
        "from bs4 import BeautifulSoup"
      ]
    },
    {
      "cell_type": "code",
      "source": [
        "url = \"https://realpython.github.io/fake-jobs/\"\n",
        "text = requests.get(url).content.decode('utf-8')"
      ],
      "metadata": {
        "id": "143Fs5-cipGn"
      },
      "execution_count": null,
      "outputs": []
    },
    {
      "cell_type": "code",
      "source": [
        "jobs = BeautifulSoup(text, 'html.parser')"
      ],
      "metadata": {
        "id": "JqlF4-Oui1Yv"
      },
      "execution_count": null,
      "outputs": []
    },
    {
      "cell_type": "code",
      "source": [
        "jobs.title"
      ],
      "metadata": {
        "colab": {
          "base_uri": "https://localhost:8080/"
        },
        "id": "Uw-7unFujOUx",
        "outputId": "908fe3bc-dbbe-4069-d2ed-61b5394f648e"
      },
      "execution_count": null,
      "outputs": [
        {
          "output_type": "execute_result",
          "data": {
            "text/plain": [
              "<title>Fake Python</title>"
            ]
          },
          "metadata": {},
          "execution_count": 7
        }
      ]
    },
    {
      "cell_type": "code",
      "source": [
        "print(jobs.prettify())"
      ],
      "metadata": {
        "id": "iiKJb8YCpzsf"
      },
      "execution_count": null,
      "outputs": []
    },
    {
      "cell_type": "code",
      "source": [
        "jobs.find_all('a')"
      ],
      "metadata": {
        "id": "uy2fTdqzpwSk"
      },
      "execution_count": null,
      "outputs": []
    },
    {
      "cell_type": "code",
      "source": [
        "#more readable code example\n",
        "for link in jobs.find_all('a'):\n",
        "  print(f\"{link.get('id')} : {link.get('href')}\")\n"
      ],
      "metadata": {
        "id": "zkWxxsPjjRLN"
      },
      "execution_count": null,
      "outputs": []
    },
    {
      "cell_type": "code",
      "source": [
        "print(jobs.get_text())"
      ],
      "metadata": {
        "id": "CdcvSeN_pjq1"
      },
      "execution_count": null,
      "outputs": []
    },
    {
      "cell_type": "code",
      "source": [
        "search_jobs = jobs.find_all('h2', class_='title is-5')"
      ],
      "metadata": {
        "id": "lpX4BzWltLNC"
      },
      "execution_count": null,
      "outputs": []
    },
    {
      "cell_type": "code",
      "source": [
        "search_jobs"
      ],
      "metadata": {
        "id": "_IeQUZrrtOiS"
      },
      "execution_count": null,
      "outputs": []
    },
    {
      "cell_type": "code",
      "source": [
        "for link in jobs.find_all('h2', class_='title is-5'):          # iş ilanlarını sıraladık\n",
        "    job_title = link.text\n",
        "    print(f\"Python iş ilanı: {job_title.strip()}\")"
      ],
      "metadata": {
        "id": "uJZnlXGw3Kuh"
      },
      "execution_count": null,
      "outputs": []
    },
    {
      "cell_type": "code",
      "source": [
        "for link in jobs.find_all('h2', class_='title is-5'):    # içinde python bulunan iş başlıkları\n",
        "    job_title = link.text\n",
        "    if 'Python' in job_title:\n",
        "        print(f\"Python iş ilanı: {job_title.strip()}\")"
      ],
      "metadata": {
        "colab": {
          "base_uri": "https://localhost:8080/"
        },
        "id": "fdhgNF7puuD_",
        "outputId": "eeab6b87-82ca-4576-8e34-fe87ef6ebb3e"
      },
      "execution_count": null,
      "outputs": [
        {
          "output_type": "stream",
          "name": "stdout",
          "text": [
            "Python iş ilanı: Senior Python Developer\n",
            "Python iş ilanı: Software Engineer (Python)\n",
            "Python iş ilanı: Python Programmer (Entry-Level)\n",
            "Python iş ilanı: Python Programmer (Entry-Level)\n",
            "Python iş ilanı: Software Developer (Python)\n",
            "Python iş ilanı: Python Developer\n",
            "Python iş ilanı: Back-End Web Developer (Python, Django)\n",
            "Python iş ilanı: Back-End Web Developer (Python, Django)\n",
            "Python iş ilanı: Python Programmer (Entry-Level)\n",
            "Python iş ilanı: Software Developer (Python)\n"
          ]
        }
      ]
    },
    {
      "cell_type": "code",
      "source": [
        "#içinde python geçen iş ilanları ve linkleri\n",
        "\n",
        "python_job_data = []\n",
        "for job in job_containers:\n",
        "    title = job.find('h2', class_='title is-5')\n",
        "\n",
        "    # Check if title contains 'Python'\n",
        "    if title and 'Python' in title.get_text():\n",
        "\n",
        "        # Find the 'Apply' link\n",
        "        apply_link = job.find('a', class_='card-footer-item', string='Apply')\n",
        "\n",
        "        # If 'Apply' link is found, append data to the list\n",
        "        if apply_link:\n",
        "            job_title = title.get_text(strip=True)\n",
        "            job_link = apply_link['href']\n",
        "            python_job_data.append({'title': job_title, 'link': job_link})\n",
        "\n",
        "# Print the list of links and titles\n",
        "for job_data in python_job_data:\n",
        "    print(f\"Python iş ilanı: {job_data['title']} - Bağlantı: {job_data['link']}\")"
      ],
      "metadata": {
        "colab": {
          "base_uri": "https://localhost:8080/"
        },
        "id": "pjuGRzrOy-Cj",
        "outputId": "e5102363-fae3-47e1-b0f0-192bf4a473e1"
      },
      "execution_count": null,
      "outputs": [
        {
          "output_type": "stream",
          "name": "stdout",
          "text": [
            "Python iş ilanı: Senior Python Developer - Bağlantı: https://realpython.github.io/fake-jobs/jobs/senior-python-developer-0.html\n",
            "Python iş ilanı: Software Engineer (Python) - Bağlantı: https://realpython.github.io/fake-jobs/jobs/software-engineer-python-10.html\n",
            "Python iş ilanı: Python Programmer (Entry-Level) - Bağlantı: https://realpython.github.io/fake-jobs/jobs/python-programmer-entry-level-20.html\n",
            "Python iş ilanı: Python Programmer (Entry-Level) - Bağlantı: https://realpython.github.io/fake-jobs/jobs/python-programmer-entry-level-30.html\n",
            "Python iş ilanı: Software Developer (Python) - Bağlantı: https://realpython.github.io/fake-jobs/jobs/software-developer-python-40.html\n",
            "Python iş ilanı: Python Developer - Bağlantı: https://realpython.github.io/fake-jobs/jobs/python-developer-50.html\n",
            "Python iş ilanı: Back-End Web Developer (Python, Django) - Bağlantı: https://realpython.github.io/fake-jobs/jobs/back-end-web-developer-python-django-60.html\n",
            "Python iş ilanı: Back-End Web Developer (Python, Django) - Bağlantı: https://realpython.github.io/fake-jobs/jobs/back-end-web-developer-python-django-70.html\n",
            "Python iş ilanı: Python Programmer (Entry-Level) - Bağlantı: https://realpython.github.io/fake-jobs/jobs/python-programmer-entry-level-80.html\n",
            "Python iş ilanı: Software Developer (Python) - Bağlantı: https://realpython.github.io/fake-jobs/jobs/software-developer-python-90.html\n"
          ]
        }
      ]
    }
  ]
}