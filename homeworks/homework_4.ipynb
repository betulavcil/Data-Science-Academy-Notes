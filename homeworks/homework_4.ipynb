{
 "cells": [
  {
   "cell_type": "markdown",
   "metadata": {},
   "source": [
    "Bugün ödev kapsamında youtube' da bulunan bir kanaldan veri çekeceğiz ve incelemeler yapacağız.\n",
    "\n",
    "Youtubeda bulunan bir kanalın channel id'sine aşağıdaki linkten ulaşabilirsiniz\n",
    "- https://www.streamweasels.com/tools/youtube-channel-id-and-user-id-convertor/\n",
    "\n",
    "TEDx\n",
    "Channel ID: UCsT0YIqwnpJCM-mx7-gSA4Q\n",
    "- En başta bu kanalı denedim fakat sürekli yeni videolar attığı için daha stabil bir kanal seçmek istedim. Tedx kanalı için deneme yaptım burada da son 50 veriye erişim izni verildi.\n",
    "\n",
    "TED\n",
    "CHANNEL_ID =\"UCAuUUnT6oDeKwE6v1NGQxug\"\n",
    "- Ted kanalının istatistiklerini çekmek istediğimde hata aldım. Araştırdığımda API anahtarımın ted kanalının verilerine erişim izni olmadığı sonucuna vardım.\n",
    "\n",
    "\n",
    "1MILLION_Dance\n",
    "Channel ID: UCw8ZhLPdQ0u_Y-TLKd61hGA\n"
   ]
  },
  {
   "cell_type": "code",
   "execution_count": 1,
   "metadata": {},
   "outputs": [],
   "source": [
    "import requests\n",
    "import pandas as pd\n",
    "import time\n",
    "import numpy as np\n",
    "import matplotlib.pyplot as plt\n",
    "import seaborn as sns"
   ]
  },
  {
   "cell_type": "code",
   "execution_count": null,
   "metadata": {},
   "outputs": [],
   "source": [
    "#Videolarini cekmek istedigin kanalin id sini kullanıyoruz\n",
    "\n",
    "CHANNEL_ID =\"UCw8ZhLPdQ0u_Y-TLKd61hGA\"  #1MillionDance channel id\n",
    "pageToken = \"\"   #Bos string olarak tanimlıyoruz bu asağıdaki koddan sonra doluyor\n",
    "\n",
    "url = \"https://www.googleapis.com/youtube/v3/search?key=\"+YOUTUBE_API_KEY+\"&channelId=\"+CHANNEL_ID+\"&part=snippet,id&order=date&maxResults=1000\"+pageToken"
   ]
  },
  {
   "cell_type": "code",
   "execution_count": null,
   "metadata": {},
   "outputs": [],
   "source": [
    "response= requests.get(url).json()"
   ]
  },
  {
   "cell_type": "code",
   "execution_count": null,
   "metadata": {},
   "outputs": [],
   "source": [
    "response"
   ]
  },
  {
   "cell_type": "markdown",
   "metadata": {},
   "source": [
    "response[\"items\"][0]"
   ]
  },
  {
   "cell_type": "code",
   "execution_count": null,
   "metadata": {},
   "outputs": [],
   "source": [
    "response[\"items\"][0]['id']['videoId']"
   ]
  },
  {
   "cell_type": "code",
   "execution_count": null,
   "metadata": {},
   "outputs": [],
   "source": [
    "response[\"items\"][0]['snippet']['title']"
   ]
  },
  {
   "cell_type": "code",
   "execution_count": null,
   "metadata": {},
   "outputs": [],
   "source": [
    "response[\"items\"][0]['snippet']['publishedAt']"
   ]
  },
  {
   "cell_type": "code",
   "execution_count": null,
   "metadata": {},
   "outputs": [],
   "source": [
    "upload_time = response[\"items\"][0]['snippet']['publishedAt']\n",
    "upload_time = str(upload_time).split(\"T\")[0]\n",
    "#Ustte tarihin nasil oldugunu gorduk T den ayirip daha hos bir goruntu elde ediyoruz\n",
    "upload_time"
   ]
  },
  {
   "cell_type": "code",
   "execution_count": null,
   "metadata": {},
   "outputs": [],
   "source": [
    "# for dongusu ile video baslıklarını cekiyoruz\n",
    "#for loop in response\n",
    "for video in response[\"items\"]:\n",
    "  if video[\"id\"][\"kind\"] == \"youtube#video\":\n",
    "    video_title = video[\"snippet\"][\"title\"]\n",
    "    print(video_title)"
   ]
  },
  {
   "cell_type": "code",
   "execution_count": null,
   "metadata": {},
   "outputs": [],
   "source": [
    "video_id = \"iOBknW-K_ZA\"\n",
    "video_url_endpoint = \"https://www.googleapis.com/youtube/v3/videos?id=\"+video_id+\"&part=statistics&key=\"+YOUTUBE_API_KEY\n",
    "\n",
    "video_response = requests.get(video_url_endpoint).json()\n",
    "\n",
    "video_response"
   ]
  },
  {
   "cell_type": "code",
   "execution_count": null,
   "metadata": {},
   "outputs": [],
   "source": [
    "# Görüntülenme, beğenme sayısı, favori sayısı, yorum sayısı bilgilerini verir\n",
    "video_response[\"items\"][0][\"statistics\"]"
   ]
  },
  {
   "cell_type": "code",
   "execution_count": null,
   "metadata": {},
   "outputs": [],
   "source": [
    "def get_video_statistics(video_id, youtube_api_key):\n",
    "    # collecting video statistics\n",
    "    video_stats_url = \"https://www.googleapis.com/youtube/v3/videos?id=\"+video_id+\"&part=statistics&key=\"+youtube_api_key\n",
    "    video_stats_response = requests.get(video_stats_url).json()\n",
    "\n",
    "    view_count = video_stats_response['items'][0][\"statistics\"][\"viewCount\"]\n",
    "    like_count = video_stats_response['items'][0][\"statistics\"][\"likeCount\"]\n",
    "    fav_count = video_stats_response['items'][0][\"statistics\"][\"favoriteCount\"]\n",
    "    comment_count = video_stats_response['items'][0][\"statistics\"][\"commentCount\"]\n",
    "\n",
    "\n",
    "    return view_count, like_count, fav_count, comment_count\n"
   ]
  },
  {
   "cell_type": "code",
   "execution_count": null,
   "metadata": {},
   "outputs": [],
   "source": [
    "def get_videos_from_channel(df, channel_id, youtube_api_key):\n",
    "    # make API call\n",
    "    pageToken = \"\"\n",
    "    url = \"https://www.googleapis.com/youtube/v3/search?key=\"+youtube_api_key+\"&channelId=\"+channel_id+\"&part=snippet,id&order=date&maxResults=1000\"+pageToken\n",
    "\n",
    "    response = requests.get(url).json()\n",
    "    time.sleep(3)\n",
    "\n",
    "    for video in response['items']:\n",
    "        if video['id']['kind'] == 'youtube#video':\n",
    "            video_title = video['snippet']['title']\n",
    "            video_id = video['id']['videoId']\n",
    "            upload_date = video['snippet']['publishedAt']\n",
    "            upload_date= str(upload_date).split(\"T\")[0]\n",
    "\n",
    "            view_count, like_count, fav_count, comment_count = get_video_statistics(video_id, youtube_api_key)\n",
    "\n",
    "            #save in pandas df\n",
    "            df = df._append({\n",
    "                \"video_title\": video_title,\n",
    "                \"video_id\": video_id,\n",
    "                \"upload_date\": upload_date,\n",
    "                \"view_count\": view_count,\n",
    "                \"like_count\": like_count,\n",
    "                \"favorite_count\": fav_count,\n",
    "                \"comment_count\": comment_count\n",
    "            },\n",
    "            ignore_index = True\n",
    "            )\n",
    "    return df"
   ]
  },
  {
   "cell_type": "code",
   "execution_count": null,
   "metadata": {},
   "outputs": [],
   "source": [
    "df = pd.DataFrame(columns=[\"video_title\",\"video_id\",\"upload_date\",\"view_count\",\"like_count\", \"favorite_count\", \"comment_count\"])\n",
    "choreography_data = get_videos_from_channel(df, CHANNEL_ID, YOUTUBE_API_KEY)"
   ]
  },
  {
   "cell_type": "code",
   "execution_count": null,
   "metadata": {},
   "outputs": [],
   "source": [
    "choreography_data.info()"
   ]
  },
  {
   "cell_type": "code",
   "execution_count": null,
   "metadata": {},
   "outputs": [],
   "source": [
    "choreography_data.head()"
   ]
  },
  {
   "cell_type": "code",
   "execution_count": null,
   "metadata": {},
   "outputs": [],
   "source": [
    "choreography_data['view_count'] = choreography_data['view_count'].astype(int)\n",
    "choreography_data['like_count'] = choreography_data['like_count'].astype(int)\n",
    "choreography_data['favorite_count'] = choreography_data['favorite_count'].astype(int)\n",
    "choreography_data['comment_count'] = choreography_data['comment_count'].astype(int)\n"
   ]
  },
  {
   "cell_type": "code",
   "execution_count": null,
   "metadata": {},
   "outputs": [],
   "source": [
    "choreography_data['upload_date'] = pd.to_datetime(choreography_data['upload_date'], format='%Y-%m-%d')"
   ]
  },
  {
   "cell_type": "code",
   "execution_count": null,
   "metadata": {},
   "outputs": [],
   "source": [
    "choreography_data.describe()"
   ]
  },
  {
   "cell_type": "code",
   "execution_count": null,
   "metadata": {},
   "outputs": [],
   "source": [
    "choreography_data.size;\n",
    "#sonuna noktalı virgül koyarsak kodu çalıştırır fakat bize çıktıyı göstermez\n",
    "#Bunu az önce yanlışlıkla keşfettiğim için not olarak eklemek istedim"
   ]
  },
  {
   "cell_type": "code",
   "execution_count": null,
   "metadata": {},
   "outputs": [],
   "source": [
    "choreography_data.shape"
   ]
  },
  {
   "cell_type": "code",
   "execution_count": null,
   "metadata": {},
   "outputs": [],
   "source": [
    "choreography_data.size"
   ]
  },
  {
   "cell_type": "code",
   "execution_count": null,
   "metadata": {},
   "outputs": [],
   "source": [
    "bar1 = sns.barplot(x=\"video_title\",  y=\"view_count\", data=choreography_data, color='darkblue')"
   ]
  },
  {
   "cell_type": "code",
   "execution_count": null,
   "metadata": {},
   "outputs": [],
   "source": [
    "#en fazla görüntüleme alan videoyu bulmak icin\n",
    "max_view = choreography_data['view_count'].max()\n",
    "max_view_video = choreography_data.loc[choreography_data['view_count'] == max_view, 'video_title'].iloc[0]\n",
    "print(\"En fazla görüntülenen video:\", max_view_video, max_view)\n"
   ]
  },
  {
   "cell_type": "code",
   "execution_count": null,
   "metadata": {},
   "outputs": [],
   "source": [
    "#en cok görüntülenen videoyu bulmak icin farklı bir yol\n",
    "# 'view_count' sütunundaki maksimum değerin indeksini bulalım\n",
    "max_index = choreography_data['view_count'].idxmax()\n",
    "\n",
    "# Maksimum değere karşılık gelen diğer sütunları yazdıralım\n",
    "max_view_video = choreography_data.loc[max_index, 'video_title']\n",
    "max_view_count = choreography_data.loc[max_index, 'view_count']\n",
    "\n",
    "print(f\"En çok görüntülenen video: '{max_view_video}' adında {max_view_count}\")"
   ]
  },
  {
   "cell_type": "code",
   "execution_count": null,
   "metadata": {},
   "outputs": [],
   "source": [
    "#en az izlenen video için\n",
    "min_index = choreography_data['view_count'].idxmin()\n",
    "\n",
    "# Maksimum değere karşılık gelen diğer sütunları yazdıralım\n",
    "min_view_video = choreography_data.loc[min_index, 'video_title']\n",
    "min_view_count = choreography_data.loc[min_index, 'view_count']\n",
    "\n",
    "print(f\"En az görüntülenen video: '{min_view_video}' adında {min_view_count}\")"
   ]
  }
 ],
 "metadata": {
  "kernelspec": {
   "display_name": "base",
   "language": "python",
   "name": "python3"
  },
  "language_info": {
   "codemirror_mode": {
    "name": "ipython",
    "version": 3
   },
   "file_extension": ".py",
   "mimetype": "text/x-python",
   "name": "python",
   "nbconvert_exporter": "python",
   "pygments_lexer": "ipython3",
   "version": "3.9.12"
  }
 },
 "nbformat": 4,
 "nbformat_minor": 2
}
